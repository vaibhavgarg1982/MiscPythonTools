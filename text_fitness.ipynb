{
 "cells": [
  {
   "cell_type": "markdown",
   "metadata": {},
   "source": [
    "# Index of Coincidence #\r\n",
    "\r\n",
    "$$\\mathbf{IC} = \\frac{\\displaystyle\\sum_{i=1}^{c}n_i(n_i -1)}{N(N-1)/c}$$\r\n",
    "\r\n",
    "\r\n",
    "where N is the length of the text and n1 through nc are the frequencies (as integers) of the c letters of the alphabet (c = 26 for monocase English). The sum of the ni is necessarily N.\r\n",
    "\r\n",
    "The products n(n−1) count the number of combinations of n elements taken two at a time. (Actually this counts each pair twice; the extra factors of 2 occur in both numerator and denominator of the formula and thus cancel out.) Each of the ni occurrences of the i-th letter matches each of the remaining ni−1 occurrences of the same letter. There are a total of N(N−1) letter pairs in the entire text, and 1/c is the probability of a match for each pair, assuming a uniform random distribution of the characters (the \"null model\"; see below). Thus, this formula gives the ratio of the total number of coincidences observed to the total number of coincidences that one would expect from the null model\r\n",
    "\r\n"
   ]
  },
  {
   "cell_type": "code",
   "execution_count": 2,
   "metadata": {},
   "outputs": [],
   "source": [
    "from collections import Counter\r\n",
    "\r\n",
    "teststring = ''' Badges have been around since the beginning of Stack Overflow. They are our way of recognizing our contributors for engaging with the community in meaningful ways. They are a little bit of motivational fun that helped us create the largest place for programming knowledge with over questions. But what badges do we have, and how did they come about in the first place? The origin of badges\r\n",
    "When asked why they contribute on Stack Overflow and the Stack Exchange sites, people give many answers. Some do it for the eternal gratefulness of developers everywhere, some to practice their writing, others simply to become better developers. Then there’s folks like this badges in total. Over time new ones were added and others were retired, often based on suggestions from the community. One reason to have them has been explicitly stated as to have fun, all of them serve the purpose of encouraging behavior that helps programmers and technologists to share knowledge, engage with the site, and learn in the best way possible. Each badge is a means to that goal. But lets look at some examples.\r\n",
    "Video provides a powerful way to help you prove your point. When you click Online Video, you can paste in the embed code for the video you want to add. You can also type a keyword to search online for the video that best fits your document. To make your document look professionally produced, Word provides header, footer, cover page, and text box designs that complement each other. For example, you can add a matching cover page, header, and sidebar. Click Insert and then choose the elements you want from the different galleries. Themes and styles also help keep your document coordinated. When you click Design and choose a new Theme, the pictures, charts, and SmartArt graphics change to match your new theme. When you apply styles, your headings change to match the new theme. Save time in Word with new buttons that show up where you need them. To change the way a picture fits in your document, click it and a button for layout options appears next to it. When you work on a table, click where you want to add a row or a column, and then click the plus sign. Reading is easier, too, in the new Reading view. You can collapse parts of the document and focus on the text you want. If you need to stop reading before you reach the end, Word remembers where you left off - even on another device. Video provides a powerful way to help you prove your point. When you click Online Video, you can paste in the embed code for the video you want to add. You can also type a keyword to search online for the video that best fits your document. To make your document look professionally produced, Word provides header, footer, cover page, and text box designs that complement each other. For example, you can add a matching cover page, header, and sidebar. Click Insert and then choose the elements you want from the different galleries. Themes and styles also help keep your document coordinated. When you click Design and choose a new Theme, the pictures, charts, and SmartArt graphics change to match your new theme. When you apply styles, your headings change to match the new theme. Save time in Word with new buttons that show up where you need them. To change the way a picture fits in your document, click it and a button for layout options appears next to it. When you work on a table, click where you want to add a row or a column, and then click the plus sign. Reading is easier, too, in the new Reading view. You can collapse parts of the document and focus on the text you want. If you need to stop reading before you reach the end, Word remembers where you left off - even on another device.'''\r\n",
    "\r\n",
    "\r\n",
    "randomtext = ''' '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'\r\n",
    "'''\r\n"
   ]
  },
  {
   "cell_type": "code",
   "execution_count": 3,
   "metadata": {},
   "outputs": [],
   "source": [
    "def prep_str(iptext):\r\n",
    "    iptext = iptext.lower()\r\n",
    "    iptext= iptext.replace(\".\",\"\")\r\n",
    "    import string\r\n",
    "\r\n",
    "    for punc in string.punctuation:\r\n",
    "        iptext = iptext.replace(punc,\"\")\r\n",
    "\r\n",
    "    iptext = iptext.replace(\"’\",\"\")\r\n",
    "    iptext = iptext.replace(\" \",\"\")\r\n",
    "    iptext = iptext.replace(\"\\n\", \"\")\r\n",
    "\r\n",
    "    for i in range(10):\r\n",
    "        iptext = iptext.replace(str(i), \"\")\r\n",
    "    \r\n",
    "    return iptext\r\n"
   ]
  },
  {
   "cell_type": "code",
   "execution_count": 4,
   "metadata": {},
   "outputs": [],
   "source": [
    "\r\n",
    "def calc_ioc(iptext):\r\n",
    "    '''https://en.wikipedia.org/wiki/Index_of_coincidence'''\r\n",
    "    iptext = prep_str(iptext)\r\n",
    "    cnt = Counter(iptext)\r\n",
    "    sum = 0\r\n",
    "    N = len(iptext)\r\n",
    "    for x in cnt:\r\n",
    "        #print(f\"{N} {cnt[x]}\")\r\n",
    "        sum = sum + cnt[x]*(cnt[x]-1)\r\n",
    "\r\n",
    "    return sum*26/(N*(N-1)), cnt\r\n",
    "\r\n"
   ]
  },
  {
   "cell_type": "code",
   "execution_count": 9,
   "metadata": {},
   "outputs": [
    {
     "name": "stdout",
     "output_type": "stream",
     "text": [
      "1.0002113411341134\n",
      "1.696743744002362\n"
     ]
    }
   ],
   "source": [
    "\r\n",
    "print(calc_ioc(randomtext)[0])\r\n",
    "print(calc_ioc(teststring)[0])"
   ]
  },
  {
   "cell_type": "code",
   "execution_count": null,
   "metadata": {},
   "outputs": [],
   "source": []
  }
 ],
 "metadata": {
  "kernelspec": {
   "display_name": "Python 3.8.0 64-bit ('tfdev': conda)",
   "name": "python380jvsc74a57bd07a1b2804db0443589973a1d53dc5810636b27484252de38a096f569ea214cb90"
  },
  "language_info": {
   "name": "python",
   "version": ""
  },
  "orig_nbformat": 2
 },
 "nbformat": 4,
 "nbformat_minor": 2
}
