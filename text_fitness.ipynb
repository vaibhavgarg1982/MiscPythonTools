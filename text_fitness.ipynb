{
 "cells": [
  {
   "cell_type": "markdown",
   "metadata": {},
   "source": [
    "# Index of Coincidence #\r\n",
    "\r\n",
    "from: [Wikipedia](https://en.wikipedia.org/wiki/Index_of_coincidence \"Index of Coincidence\")\r\n",
    "\r\n",
    "$$\\mathbf{IC} = \\frac{\\displaystyle\\sum_{i=1}^{c}n_i(n_i -1)}{N(N-1)/c}$$\r\n",
    "\r\n",
    "\r\n",
    "where N is the length of the text and n1 through nc are the frequencies (as integers) of the c letters of the alphabet (c = 26 for monocase English). The sum of the ni is necessarily N.\r\n",
    "\r\n",
    "The products n(n−1) count the number of combinations of n elements taken two at a time. (Actually this counts each pair twice; the extra factors of 2 occur in both numerator and denominator of the formula and thus cancel out.) Each of the ni occurrences of the i-th letter matches each of the remaining ni−1 occurrences of the same letter. There are a total of N(N−1) letter pairs in the entire text, and 1/c is the probability of a match for each pair, assuming a uniform random distribution of the characters (the \"null model\"; see below). Thus, this formula gives the ratio of the total number of coincidences observed to the total number of coincidences that one would expect from the null model\r\n",
    "\r\n"
   ]
  },
  {
   "cell_type": "code",
   "execution_count": 1,
   "metadata": {},
   "outputs": [],
   "source": [
    "from collections import Counter\r\n"
   ]
  },
  {
   "cell_type": "code",
   "execution_count": 2,
   "metadata": {},
   "outputs": [],
   "source": [
    "teststring = ''' The word utility is used to mean general well-being or happiness, and Mill's view is that utility is the consequence of a good action. Utility, within the context of utilitarianism, refers to people performing actions for social utility. With social utility, he means the well-being of many people. Mill's explanation of the concept of utility in his work, Utilitarianism, is that people really do desire happiness, and since each individual desires their own happiness, it must follow that all of us desire the happiness of everyone, contributing to a larger social utility. Thus, an action that results in the greatest pleasure for the utility of society is the best action, or as Jeremy Bentham, the founder of early Utilitarianism put it, as the greatest happiness of the greatest number.\r\n",
    "\r\n",
    "Mill not only viewed actions as a core part of utility, but as the directive rule of moral human conduct. The rule being that we should only be committing actions that provide pleasure to society. This view of pleasure was hedonistic, as it pursued the thought that pleasure is the highest good in life. This concept was adopted by Bentham and can be seen in his works. According to Mill, good actions result in pleasure, and that there is no higher end than pleasure. Mill says that good actions lead to pleasure and define good character. Better put, the justification of character, and whether an action is good or not, is based on how the person contributes to the concept of social utility. In the long run the best proof of a good character is good actions; and resolutely refuse to consider any mental disposition as good, of which the predominant tendency is to produce bad conduct. In the last chapter of Utilitarianism, Mill concludes that justice, as a classifying factor of our actions (being just or unjust) is one of the certain moral requirements, and when the requirements are all regarded collectively, they are viewed as greater according to this scale of \"social utility\" as Mill puts it.\r\n",
    "\r\n",
    "He also notes that, contrary to what its critics might say, there is \"no known Epicurean theory of life which does not assign to the pleasures of the intellect…a much higher value as pleasures than to those of mere sensation.\" However, he accepts that this is usually because the intellectual pleasures are thought to have circumstantial advantages, i.e. \"greater permanency, safety, uncostliness, &c.\" Instead, Mill will argue that some pleasures are intrinsically better than others.\r\n",
    "\r\n",
    "The accusation that hedonism is a \"doctrine worthy only of swine\" has a long history. In Nicomachean Ethics (Book 1 Chapter 5), Aristotle says that identifying the good with pleasure is to prefer a life suitable for beasts. The theological utilitarians had the option of grounding their pursuit of happiness in the will of God; the hedonistic utilitarians needed a different defence. Mill's approach is to argue that the pleasures of the intellect are intrinsically superior to physical pleasures.\r\n",
    "\r\n",
    "Few human creatures would consent to be changed into any of the lower animals, for a promise of the fullest allowance of a beast's pleasures; no intelligent human being would consent to be a fool, no instructed person would be an ignoramus, no person of feeling and conscience would be selfish and base, even though they should be persuaded that the fool, the dunce, or the rascal is better satisfied with his lot than they are with theirs.… A being of higher faculties requires more to make him happy, is capable probably of more acute suffering, and certainly accessible to it at more points, than one of an inferior type; but in spite of these liabilities, he can never really wish to sink into what he feels to be a lower grade of existence.… It is better to be a human being dissatisfied than a pig satisfied; better to be Socrates dissatisfied than a fool satisfied. And if the fool, or the pig, are of a different opinion, it is because they only know their own side of the question…[32]\r\n",
    "\r\n",
    "Mill argues that if people who are \"competently acquainted\" with two pleasures show a decided preference for one even if it be accompanied by more discontent and \"would not resign it for any quantity of the other,\" then it is legitimate to regard that pleasure as being superior in quality. Mill recognizes that these \"competent judges\" will not always agree, and states that, in cases of disagreement, the judgment of the majority is to be accepted as final. Mill also acknowledges that \"many who are capable of the higher pleasures, occasionally, under the influence of temptation, postpone them to the lower. But this is quite compatible with a full appreciation of the intrinsic superiority of the higher.\" Mill says that this appeal to those who have experienced the relevant pleasures is no different from what must happen when assessing the quantity of pleasure, for there is no other way of measuring \"the acutest of two pains, or the intensest of two pleasurable sensations.\" \"It is indisputable that the being whose capacities of enjoyment are low, has the greatest chance of having them fully satisfied; and a highly-endowed being will always feel that any happiness which he can look for, as the world is constitute, is imperfect.Mill also thinks that \"intellectual pursuits have value out of proportion to the amount of contentment or pleasure (the mental state) that they produce.\"[34] Mill also says that people should pursue these grand ideals, because if they choose to have gratification from petty pleasures, \"some displeasure will eventually creep in. We will become bored and depressed.\"[35] Mill claims that gratification from petty pleasures only gives short-term happiness and, subsequently, worsens the individual who may feel that his life lacks happiness, since the happiness is transient. Whereas, intellectual pursuits give long-term happiness because they provide the individual with constant opportunities throughout the years to improve his life, by benefiting from accruing knowledge. Mill views intellectual pursuits as \"capable of incorporating the 'finer things' in life\" while petty pursuits do not achieve this goal.[36] Mill is saying that intellectual pursuits give the individual the opportunity to escape the constant depression cycle since these pursuits allow them to achieve their ideals, while petty pleasures do not offer this. Although debate persists about the nature of Mill's view of gratification, this suggests bifurcation in his position.\r\n",
    "\r\n",
    "'Proving' the principle of utility\r\n",
    "In Chapter Four of Utilitarianism, Mill considers what proof can be given for the principle of utility:[37]\r\n",
    "\r\n",
    "The only proof capable of being given that an object is visible, is that people actually see it. The only proof that a sound is audible, is that people hear it.… In like manner, I apprehend, the sole evidence it is possible to produce that anything is desirable, is that people do actually desire it.… No reason can be given why the general happiness is desirable, except that each person, so far as he believes it to be attainable, desires his own happiness…we have not only all the proof which the case admits of, but all which it is possible to require, that happiness is a good: that each person's happiness is a good to that person, and the general happiness, therefore, a good to the aggregate of all persons.\r\n",
    "\r\n",
    "It is usual to say that Mill is committing a number of fallacies:[38]\r\n",
    "\r\n",
    "naturalistic fallacy: Mill is trying to deduce what people ought to do from what they in fact do;\r\n",
    "equivocation fallacy: Mill moves from the fact that (1) something is desirable, i.e. is capable of being desired, to the claim that (2) it is desirable, i.e. that it ought to be desired; and\r\n",
    "the fallacy of composition: the fact that people desire their own happiness does not imply that the aggregate of all persons will desire the general happiness.\r\n",
    "Such allegations began to emerge in Mill's lifetime, shortly after the publication of Utilitarianism, and persisted for well over a century, though the tide has been turning in recent discussions. Nonetheless, a defence of Mill against all three charges, with a chapter devoted to each, can be found in Necip Fikri Alican's Mill's Principle of Utility: A Defense of John Stuart Mill's Notorious Proof (1994). This is the first, and remains[when?] the only, book-length treatment of the subject matter. Yet the alleged fallacies in the proof continue to attract scholarly attention in journal articles and book chapters.'''\r\n",
    "\r\n",
    "\r\n",
    "randomtext = ''' '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'\r\n",
    "'''\r\n"
   ]
  },
  {
   "cell_type": "code",
   "execution_count": 3,
   "metadata": {},
   "outputs": [],
   "source": [
    "def prep_str(iptext):\r\n",
    "    iptext = iptext.lower()\r\n",
    "    iptext= iptext.replace(\".\",\"\")\r\n",
    "    import string\r\n",
    "\r\n",
    "    for punc in string.punctuation:\r\n",
    "        iptext = iptext.replace(punc,\"\")\r\n",
    "\r\n",
    "    iptext = iptext.replace(\"’\",\"\")\r\n",
    "    iptext = iptext.replace(\" \",\"\")\r\n",
    "    iptext = iptext.replace(\"\\n\", \"\")\r\n",
    "    iptext = iptext.replace(\"…\",\"\")\r\n",
    "\r\n",
    "    for i in range(10):\r\n",
    "        iptext = iptext.replace(str(i), \"\")\r\n",
    "    \r\n",
    "    return iptext\r\n"
   ]
  },
  {
   "cell_type": "code",
   "execution_count": 4,
   "metadata": {},
   "outputs": [],
   "source": [
    "\r\n",
    "def calc_ioc(iptext):\r\n",
    "    '''https://en.wikipedia.org/wiki/Index_of_coincidence'''\r\n",
    "    iptext = prep_str(iptext)\r\n",
    "    cnt = Counter(iptext)\r\n",
    "    sum = 0\r\n",
    "    N = len(iptext)\r\n",
    "    for x in cnt:\r\n",
    "        #print(f\"{N} {cnt[x]}\")\r\n",
    "        sum = sum + cnt[x]*(cnt[x]-1)\r\n",
    "\r\n",
    "    return sum*26/(N*(N-1)), cnt\r\n",
    "\r\n"
   ]
  },
  {
   "cell_type": "markdown",
   "metadata": {},
   "source": [
    "[Quadgram calculation](https://planetcalc.com/7959/)\r\n",
    "\r\n",
    "Having these frequencies, technically, we can estimate the probability to find given text in whole text corpus (which is a good candidate for fitness measure). For example, let our text be the word \"MENTION\". It consists of the following quadgrams: MENT - ENTI - NTIO - TION. So,\r\n",
    "\r\n",
    "$$p(MENTION)=p(MENT)* p(ENTI) * p(NTIO) * p(TION)$$\r\n",
    "\r\n",
    "Well, of course, approximately. Language rules impose additional limitations, but we do not care much about them as long as our fitness function works as expected. The real problem here, however, is that the probabilities are quite small, so multiplication of those quickly goes to even smaller values, introduces rounding errors, and is not quite usable. The solution is known - apply the logarithm function. In this case,\r\n",
    "\r\n",
    "$$log(p(MENTION))=log(p(MENT))+log(p(ENTI))+log(p(NTIO))+log(p(TION))$$\r\n",
    "\r\n",
    "The loaded quadgrams file already contains the log liklihoods so they can just be added."
   ]
  },
  {
   "cell_type": "code",
   "execution_count": 5,
   "metadata": {},
   "outputs": [],
   "source": [
    "def quadgram_fitness(iptext):\r\n",
    "    a = prep_str(iptext)\r\n",
    "    quadtext = [a[idx:idx+4] for idx in range(len(a)-3)]\r\n",
    "    quaddict={}\r\n",
    "    with open(\"quadgrams.txt\") as f:\r\n",
    "        for line in f:\r\n",
    "            quaddict[line.split(\",\")[0]]= float(line.split(\",\")[1])\r\n",
    "\r\n",
    "    sum = 0\r\n",
    "    for quad in quadtext:\r\n",
    "        sum += (quaddict.get(quad.upper(),0))\r\n",
    "    return abs(sum)/len(quadtext)"
   ]
  },
  {
   "cell_type": "code",
   "execution_count": 6,
   "metadata": {},
   "outputs": [
    {
     "name": "stdout",
     "output_type": "stream",
     "text": [
      "1.0002113411341134\n",
      "1.7642129827559332\n",
      "0.5542850898467538\n",
      "3.7183183502414807\n"
     ]
    }
   ],
   "source": [
    "\r\n",
    "print(calc_ioc(randomtext)[0])\r\n",
    "print(calc_ioc(teststring)[0]) # for english text, it should be as close to 1.7 as possible\r\n",
    "\r\n",
    "print(quadgram_fitness(randomtext))\r\n",
    "print(quadgram_fitness(teststring)) #larger the better, as this is the absolute value of the sum of the log likelihood\r\n"
   ]
  },
  {
   "cell_type": "code",
   "execution_count": null,
   "metadata": {},
   "outputs": [],
   "source": []
  }
 ],
 "metadata": {
  "kernelspec": {
   "display_name": "Python 3.8.0 64-bit ('tfdev': conda)",
   "name": "python380jvsc74a57bd07a1b2804db0443589973a1d53dc5810636b27484252de38a096f569ea214cb90"
  },
  "language_info": {
   "codemirror_mode": {
    "name": "ipython",
    "version": 3
   },
   "file_extension": ".py",
   "mimetype": "text/x-python",
   "name": "python",
   "nbconvert_exporter": "python",
   "pygments_lexer": "ipython3",
   "version": "3.8.0"
  },
  "orig_nbformat": 2
 },
 "nbformat": 4,
 "nbformat_minor": 2
}